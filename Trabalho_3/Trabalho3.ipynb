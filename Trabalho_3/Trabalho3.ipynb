{
 "cells": [
  {
   "cell_type": "markdown",
   "metadata": {},
   "source": [
    "# Trabalho 3"
   ]
  },
  {
   "cell_type": "markdown",
   "metadata": {},
   "source": [
    "## Sistemas Dinâmicos por FOTS (\"First Order Transition System\")"
   ]
  },
  {
   "cell_type": "markdown",
   "metadata": {},
   "source": [
    "O nosso sistema dinâmico denota 4 inversores ($\\,A, B, C, D\\,$) que lêm um bit num canal input e escrevem num canal output uma transformação desse bit.\n",
    "\n",
    "Começamos por declarar os nossos estados cada um com uma variável $s$ que os identifica."
   ]
  },
  {
   "cell_type": "code",
   "execution_count": 73,
   "metadata": {},
   "outputs": [],
   "source": [
    "from z3 import *\n",
    "\n",
    "def declare(i):\n",
    "    state = {}\n",
    "    state['s'] = Int('s'+str(i))\n",
    "    return state"
   ]
  },
  {
   "cell_type": "markdown",
   "metadata": {},
   "source": [
    "Posteriormente, definimos o nosso estado inicial por:\n",
    "$$s = 0 \\vee s = 1$$"
   ]
  },
  {
   "cell_type": "code",
   "execution_count": 74,
   "metadata": {},
   "outputs": [],
   "source": [
    "def init(state):\n",
    "    # state = 0 or state = 1\n",
    "    return Or(state['s'] == 0, state['s'] == 1)"
   ]
  },
  {
   "cell_type": "markdown",
   "metadata": {},
   "source": [
    "As transições possíveis no FOTS são caracterizadas pelo seguinte predicado:\n",
    "$$\n",
    "(s = 0 \\wedge s' = s)\n",
    "\\vee\n",
    "(s = 1 \\wedge s' = s - 1)\n",
    "$$\n",
    "\n",
    "Este predicado é uma disjunção de todas as possíveis transições que podem ocorrer no programa."
   ]
  },
  {
   "cell_type": "code",
   "execution_count": 75,
   "metadata": {},
   "outputs": [],
   "source": [
    "def trans(curr, prox):\n",
    "    trans01 = And(curr['s'] == 0, prox['s'] == curr['s'])\n",
    "    \n",
    "    trans02 = And(curr['s'] == 1, prox['s'] == curr['s'] - 1)\n",
    "    \n",
    "    return Or(trans01, trans02)"
   ]
  },
  {
   "cell_type": "code",
   "execution_count": 94,
   "metadata": {},
   "outputs": [
    {
     "name": "stdout",
     "output_type": "stream",
     "text": [
      "A propriedade verifica-se.\n",
      "A propriedade verifica-se.\n",
      "A propriedade verifica-se.\n",
      "A propriedade verifica-se.\n"
     ]
    }
   ],
   "source": [
    "def kinduction_always(declare,init,trans,inv,K):\n",
    "    # completar\n",
    "    for k in range(2,K+2):\n",
    "        trace = [declare(i) for i in range(k+1)]\n",
    "\n",
    "        # provar caso base (os primeiros k estados)\n",
    "        s = Solver()\n",
    "        s.add(init(trace[0]))\n",
    "        for i in range(k-1):\n",
    "            s.add(trans(trace[i], trace[i+1]))\n",
    "            \n",
    "        s.add(Not(inv(trace[k-1])))    \n",
    "\n",
    "        r = s.check()\n",
    "\n",
    "        if r == sat:\n",
    "            m = s.model()\n",
    "            print(\" A propriedade falha no caso base começado em: \")\n",
    "            for v in trace[0]:\n",
    "                print(v, '=', m[trace[0][v]])\n",
    "            return\n",
    "        if r != unsat:\n",
    "            return \n",
    "\n",
    "\n",
    "\n",
    "        # provar caso indutivo\n",
    "        s = Solver()\n",
    "        for i in range(k):\n",
    "            s.add(trans(trace[i], trace[i+1]))\n",
    "            s.add(inv(trace[i]))\n",
    "        s.add(Not(inv(trace[k])))\n",
    "\n",
    "        r = s.check()\n",
    "\n",
    "        if r==sat:\n",
    "            m = s.model()\n",
    "            print(\"A propriedade falha no passo k indutivo que começa em\")\n",
    "            for v in trace[0]:\n",
    "                print(v, 'm', m[trace[0][v]])\n",
    "            return\n",
    "\n",
    "        if r == unsat:\n",
    "            print(\"A propriedade verifica-se.\")\n",
    "\n",
    "def equalToZero(state):\n",
    "    return (state['s'] == 0)\n",
    "kinduction_always(declare,init,trans,equalToZero,4)"
   ]
  },
  {
   "cell_type": "code",
   "execution_count": null,
   "metadata": {},
   "outputs": [],
   "source": []
  },
  {
   "cell_type": "markdown",
   "metadata": {},
   "source": [
    "## Sistema Híbrido "
   ]
  },
  {
   "cell_type": "markdown",
   "metadata": {},
   "source": [
    "Os automatos hibridos sao modelos de sistemas ciber-fisicos que são particularmente uteis porque podem ser descritos por um FOTS e verificado com um SMT \"solver\".\n",
    "\n",
    "Começamos por definir os modos e atribuímos valores constantes às variáveis que são enunciadas. \n",
    "\n",
    "Criámos duas matrizes: uma matriz 3x2 (s_discrete), uma linha por navio e uma coluna para a rota e outra para a velocidade; Outra matriz 3x3 (s_continuous) com 3 linhas (uma por navio) e um coluna para cada componente x, y e t."
   ]
  },
  {
   "cell_type": "code",
   "execution_count": 116,
   "metadata": {},
   "outputs": [],
   "source": [
    "import math\n",
    "\n",
    "Mode,(Start, Colisao, Hight) = EnumSort('Mode', ('Start', 'Collision', 'High'))\n",
    "\n",
    "low_velocity = 1\n",
    "high_velocity = 10\n",
    "angle = 15\n",
    "r = 3\n",
    "x = 5\n",
    "y = 7"
   ]
  },
  {
   "cell_type": "code",
   "execution_count": 117,
   "metadata": {},
   "outputs": [],
   "source": [
    "def declare(i):\n",
    "    s = {}\n",
    "    s_discrete = {}\n",
    "    s_continuous = {}\n",
    "    \n",
    "    for i in range(3):\n",
    "        s_discrete[i] = {}\n",
    "        s_discrete[i]['r'] = Real('r' + str(i)) \n",
    "        s_discrete[i]['v'] = Real('v' + str(i)) \n",
    "        \n",
    "    for i in range(3):\n",
    "        s_continuous[i] = {}\n",
    "        s_continuous[i]['x'] = Real('x' + str(i)) \n",
    "        s_continuous[i]['y'] = Real('y' + str(i)) \n",
    "        s_continuous[i]['t'] = Real('t' + str(i)) \n",
    "        \n",
    "        \n",
    "    s['m'] = Const('m' + str(i), Mode)\n",
    "    \n",
    "    #print(s_continuous)\n",
    "    return (s, s_discrete, s_continuous)"
   ]
  },
  {
   "cell_type": "code",
   "execution_count": 128,
   "metadata": {},
   "outputs": [],
   "source": [
    "def init(state):\n",
    "    ship1 = And(state[2][0]['x'] == x, state[2][0]['y'] == y, state[2][0]['t'] == 0, \n",
    "                state[1][0]['v'] == high_velocity, state[1][0]['r'] == (state[2][0]['x'] / math.cos(angle)))\n",
    "    \n",
    "    ship2 = And(state[2][1]['x'] == x + 10, state[2][1]['y'] == y + 20, state[2][1]['t'] == 0, \n",
    "                state[1][1]['v'] == high_velocity, state[1][1]['r'] == (state[2][1]['x'] / math.cos(angle*2)))\n",
    "    \n",
    "    ship3 = And(state[2][2]['x'] == x + 50, state[2][2]['y'] == y + 10, state[2][2]['t'] == 0, \n",
    "                state[1][2]['v'] == high_velocity, state[1][2]['r'] == (state[2][2]['x'] / math.cos(angle*3)))\n",
    "    \n",
    "    return And(state[0]['m'] == Start, ship1, ship2, ship3) "
   ]
  },
  {
   "cell_type": "code",
   "execution_count": 129,
   "metadata": {},
   "outputs": [],
   "source": [
    "# todas as possibilidades dos navios colidirem, ou seja, \n",
    "# navio 0 com navio1, navio0 com navio3 e navio2 com navio3\n",
    "\n",
    "def collisionsContinuous(state):\n",
    "    # colisão entre o navio2 com navio0\n",
    "    collision1 = And((state[2][1]['x'] - state[2][0]['x']) <= r, \n",
    "                (state[2][1]['y'] - state[2][0]['y']) <= r,\n",
    "                (state[2][1]['t'] - state[2][0]['t']) <= r/high_velocity)\n",
    "    \n",
    "    # colisão entre o navio3 com navio0\n",
    "    collision2 = And((state[2][2]['x'] - state[2][0]['x']) <= r, \n",
    "                (state[2][2]['y'] - state[2][0]['y']) <= r,\n",
    "                (state[2][2]['t'] - state[2][0]['t']) <= r/high_velocity)\n",
    "    \n",
    "    # colisão entre o navio 3 com navio 2\n",
    "    collision3 = And((state[2][2]['x'] - state[2][1]['x']) <= r, \n",
    "                (state[2][2]['y'] - state[2][1]['y']) <= r,\n",
    "                (state[2][2]['t'] - state[2][1]['t']) <= r/high_velocity)\n",
    "    \n",
    "    return Or(collision1, collision2, collision3)"
   ]
  },
  {
   "cell_type": "code",
   "execution_count": 130,
   "metadata": {},
   "outputs": [],
   "source": [
    "def collisionsDiscrete(state):\n",
    "    # a velocidade de ambos os navios decresce para o valor mais baixo low_velocity\n",
    "    # e o navio0 desvia-se a bombordo (-15 graus) e o navio1 desvia-se estibordo (+15graus)\n",
    "    collision1 = And(state[1][1]['v'] == low_velocity, state[1][0]['v'] == low_velocity, \n",
    "                    state[1][0]['r'] == state[2][0]['x']/math.cos(angle - 15), \n",
    "                    state[1][1]['r'] == state[2][1]['x']/math.cos(angle + 15))\n",
    "    \n",
    "    # a velocidade de ambos os navios decresce para o valor mais baixo low_velocity\n",
    "    # o navio0 desvia-se a estibordo (+15 graus) e o navio2 desvia-se a bombordo(-15 graus) \n",
    "    collision2 = And(state[1][2]['v'] == low_velocity, state[1][0]['v'] == low_velocity,\n",
    "                    state[1][0]['r'] == state[2][0]['x']/math.cos(angle + 15), \n",
    "                    state[1][2]['r'] == state[2][2]['x']/math.cos(angle - 15))\n",
    "    \n",
    "    # a velocidade de ambos os navios decresce para o valor mais baixo low_velocity\n",
    "    # o navio1 desvia-se a estibordo (-15 graus) e o navio2 desvia-se a bombordo(+15 graus) \n",
    "    collision3 = And(state[1][2]['v'] == low_velocity, state[1][1]['v'] == low_velocity,\n",
    "                    state[1][1]['r'] == state[2][1]['x']/math.cos(angle - 15), \n",
    "                    state[1][2]['r'] == state[2][2]['x']/math.cos(angle + 15))\n",
    "    \n",
    "    return Or(collision1, collision2, collision3)"
   ]
  },
  {
   "cell_type": "code",
   "execution_count": 131,
   "metadata": {},
   "outputs": [],
   "source": [
    "# os navios após a colisão retornam à velocidade original\n",
    "def originalVelocity(state):\n",
    "    return And(state[1][0]['v'] == high_velocity, state[1][1]['v'] == high_velocity, \n",
    "               state[1][2]['v'] == high_velocity)"
   ]
  },
  {
   "cell_type": "code",
   "execution_count": 132,
   "metadata": {},
   "outputs": [],
   "source": [
    "# navegação dos navios, vão mudar de coordenadas\n",
    "def sailing(state):\n",
    "    ship1 = And(state[2][0]['x'] == x + 15, state[2][0]['y'] == y - 10, state[2][0]['t'] == 5)\n",
    "    \n",
    "    ship2 = And(state[2][1]['x'] == x - 10, state[2][1]['y'] == y + 20, state[2][1]['t'] == 10)\n",
    "    \n",
    "    ship3 = And(state[2][2]['x'] == x + 50, state[2][2]['y'] == y - 30, state[2][2]['t'] == 15)\n",
    "    \n",
    "    return And(ship1, ship2, ship3) "
   ]
  },
  {
   "cell_type": "code",
   "execution_count": 133,
   "metadata": {},
   "outputs": [],
   "source": [
    "def trans(curr, prox):\n",
    "    # untimed\n",
    "    \n",
    "    # transição do start para a velocidade High\n",
    "    startHigh = And(curr[0]['m'] == Start, prox[0]['m'] == High, prox[1] == curr[1], prox[2] == curr[2])\n",
    "    \n",
    "    \n",
    "    highCollision = And(curr[0]['m'] == High, prox[0]['m'] == Collision, prox[2] == collisionsContinuous(curr[2]), \n",
    "                        prox[1] == collisionsDiscrete(curr[1]))\n",
    "    \n",
    "    collisionHigh = And(curr[0]['m'] == Collision, prox[0]['m'] == High, prox[1] == originalVelocity(curr[1]))\n",
    "    \n",
    "    # timed\n",
    "    highHigh = And(curr[0]['m'] == High, prox[0]['m'] == curr[0]['m'], prox[2] == sailing(curr[2]))\n",
    "    \n",
    "    return Or(startHigh, highCollision, collisionHigh, highHigh)"
   ]
  },
  {
   "cell_type": "code",
   "execution_count": 151,
   "metadata": {},
   "outputs": [
    {
     "name": "stdout",
     "output_type": "stream",
     "text": [
      "[r2 = 550000000000000000/5253219888177297,\n",
      " v2 = 10,\n",
      " t2 = 0,\n",
      " y2 = 17,\n",
      " x2 = 55,\n",
      " r1 = 300000000000000000/3085028997751681,\n",
      " v1 = 10,\n",
      " t1 = 0,\n",
      " y1 = 27,\n",
      " x1 = 15,\n",
      " r0 = -12500000000000000/1899219782147053,\n",
      " v0 = 10,\n",
      " t0 = 0,\n",
      " y0 = 7,\n",
      " x0 = 5,\n",
      " m2 = Start]\n",
      "0\n",
      "m = Start\n"
     ]
    }
   ],
   "source": [
    "def bmc_always(declare,init,trans,inv,K):\n",
    "    for k in range(1,K+1):\n",
    "        s = Solver()\n",
    "        # it's like an authomata\n",
    "        # declare all k to states\n",
    "        trace = [declare(i) for i in range(k)]\n",
    "        #print(trace)\n",
    "\n",
    "        # initializate state 0\n",
    "        s.add(init(trace[0]))\n",
    "        \n",
    "\n",
    "        # create a link between two spaces\n",
    "        for i in range(k-1):\n",
    "            s.add(trans(trace[0][i], trace[0][i+1]))\n",
    "        \n",
    "        #s.add(trace[0][k-1])\n",
    "        \n",
    "        \n",
    "        if s.check() == sat:\n",
    "            m = s.model()\n",
    "            print(m)\n",
    "            for i in range(k):\n",
    "                print(i)\n",
    "                for v in trace[0][i]:\n",
    "                    print(v,'=', m[trace[0][i][v]])\n",
    "            return\n",
    "        \n",
    "    print (\"Property is valid up to traces of length \"+str(K))\n",
    "      \n",
    "\n",
    "bmc_always(declare,init,trans,positive,5)\n",
    "    "
   ]
  },
  {
   "cell_type": "code",
   "execution_count": null,
   "metadata": {},
   "outputs": [],
   "source": []
  }
 ],
 "metadata": {
  "kernelspec": {
   "display_name": "Python 3",
   "language": "python",
   "name": "python3"
  },
  "language_info": {
   "codemirror_mode": {
    "name": "ipython",
    "version": 3
   },
   "file_extension": ".py",
   "mimetype": "text/x-python",
   "name": "python",
   "nbconvert_exporter": "python",
   "pygments_lexer": "ipython3",
   "version": "3.8.5"
  }
 },
 "nbformat": 4,
 "nbformat_minor": 4
}
