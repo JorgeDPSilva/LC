{
 "cells": [
  {
   "cell_type": "markdown",
   "metadata": {},
   "source": [
    "# Trabalho Prático 1"
   ]
  },
  {
   "cell_type": "markdown",
   "metadata": {},
   "source": [
    "## Horário Reuniões Startup   "
   ]
  },
  {
   "cell_type": "markdown",
   "metadata": {},
   "source": [
    "### Análise ao Problema"
   ]
  },
  {
   "cell_type": "markdown",
   "metadata": {},
   "source": [
    "Neste problema pretende-se construir um horário semanal para o plano de reuniões de projeto de uma “StartUp”.\n",
    "Pretende-se alocar reuniões a salas, ao longo da semana, sendo o tempo de ocupação das salas de duas horas.\n",
    "\n",
    "Existem P projetos, que vamos identificar por um índice $p\\in[0..P-1]$, os quais são constituídos por um líder $\\textbf(L)$ $l\\in[0..L-1]$ e por colaboradores$\\textbf(C)$ $c\\in[0..C-1]$, e ainda, identificar cada sala $\\textbf(S)$ disponível, a um dado tempo $\\textbf(T)$ e a um dado dia $\\textbf(D)$ , por um quintuplo $(l,c,s,t,d)$  $[0..L-1]\\times[0..C-1]\\in[0..S-1]\\times[0..T-1]\\times[0..D-1]$.\n",
    "\n",
    "Usaremos uma família $x_{l,c,p,s,t,d}$ de variáveis binárias (ou seja, que assumem valores inteiros {0,1}), com a seguinte estrutura:\n",
    "$$x_{l,c,p,s,t,d} == 1  \\quad \\mbox{se e só se} \\quad \\mbox{o projeto $p$ com um líder $l$ e colaboradores $c$ for alocado à sala $s$, no tempo $t$, no dia $d$.}$$"
   ]
  },
  {
   "cell_type": "markdown",
   "metadata": {},
   "source": [
    "\n",
    "O problema tem como $\\textbf{condicionantes}$ (que impõe limites máximos à alocação):\n",
    "\n",
    "  1. Cada sala tem um e um só projeto num determinado slot.\n",
    "  2. Para cada sala e para cada dia, o número de reuniões é menor ou igual que N.\n",
    "  3. Cada colaborador tem, no máximo, um projeto num determinado slot.\n",
    "  4. Cada projeto realiza, no máximo, R reuniões semanais.\n",
    "  5. Cada projeto tem, no máximo, uma sala num determinado slot.\n",
    "  6. Cada líder tem, no máximo, um projeto.\n",
    "  \n",
    "    \n",
    "A questão tem como $\\textbf{obrigações}$ (que impõe limites mínimos à alocação):\n",
    "\n",
    "  7. O líder do projeto participa em todas as reuniões do seu projeto.\n",
    "  8. Cada reunião tem pelo menos 50% do número de colaboradores.\n",
    "  9. Para cada sala, o tempo disponível é entre 0 e T.\n",
    "  10. Cada líder tem um dia da semana em que não está disponível.\n",
    "  11. Cada colaborador tem um dia da semana em que não está disponível.\n",
    "  12. Uma reunião só acontece se a disponibilidade do líder e dos colaboradores coincidirem."
   ]
  },
  {
   "cell_type": "code",
   "execution_count": 1,
   "metadata": {},
   "outputs": [],
   "source": [
    "from pyscipopt import Model, quicksum\n",
    "import random"
   ]
  },
  {
   "cell_type": "code",
   "execution_count": 2,
   "metadata": {},
   "outputs": [],
   "source": [
    "horario = Model()"
   ]
  },
  {
   "cell_type": "markdown",
   "metadata": {},
   "source": [
    "### Inputs"
   ]
  },
  {
   "cell_type": "markdown",
   "metadata": {},
   "source": [
    "Começámos por definir algumas variáveis importantes, tais como, o número de salas existentes, o número de dias úteis numa semana, o tempo possível para cada reunião, o tempo disponível de cada sala, o número máximo de colaboradores por projeto (10 -> 9 colaboradores + 1 líder) e ainda, o número de projetos que será igual ao número de líderes."
   ]
  },
  {
   "cell_type": "code",
   "execution_count": 3,
   "metadata": {},
   "outputs": [],
   "source": [
    "# salas existentes\n",
    "S = 4\n",
    "\n",
    "# dias da semana\n",
    "D = 5\n",
    "\n",
    "# tempo de reunião de um projeto (2 horas)\n",
    "periodo = 2\n",
    "\n",
    "# tempo disponível sala\n",
    "T = 8\n",
    "\n",
    "# número de projetos\n",
    "P = 10\n",
    "\n",
    "# colaboradores + lider\n",
    "C = 10 \n",
    "\n",
    "# número de líderes é igual ao numero de projetos\n",
    "L = 10\n",
    "\n",
    "# número máximo de reuniões semanais, para cada projeto\n",
    "# ((T/periodo)*D*S)/P\n",
    "R = 5\n",
    "\n",
    "# número máximo de reuniões de uma sala num dia\n",
    "N = T / periodo"
   ]
  },
  {
   "cell_type": "code",
   "execution_count": 4,
   "metadata": {},
   "outputs": [],
   "source": [
    "# declaração da matriz de alocação X como um dicionário.\n",
    "\n",
    "X = {}\n",
    "for p in range(P):\n",
    "    for l in range(L):\n",
    "        for c in range(C):\n",
    "            for s in range(S):\n",
    "                for t in range(T):\n",
    "                    for d in range(D):\n",
    "                        X[p,l,c,s,t,d] = horario.addVar((str(p)+'_'+str(l)+'_'+str(c)+'_'+str(s)+'_'+str(t)+'_'+str(d)), vtype=\"I\")\n",
    "                        horario.addCons(0<=X[p,l,c,s,t,d])\n",
    "                        horario.addCons(X[p,l,c,s,t,d]<=1)\n"
   ]
  },
  {
   "cell_type": "markdown",
   "metadata": {},
   "source": [
    "Apresentamos agora as restrições do problema.\n",
    "\n",
    "1. Cada sala tem um e um só projeto num determinado slot\n",
    "\n",
    "$$\\forall_{s< S} \\cdot \\forall_{d<D} \\cdot \\forall_{t<T}\\quad \\sum_{p < P} x_{p,l,c,s,t,d} \\leq 1$$"
   ]
  },
  {
   "cell_type": "code",
   "execution_count": 5,
   "metadata": {},
   "outputs": [],
   "source": [
    "for s in range(S):\n",
    "    for d in range(D):\n",
    "        for t in range(T):\n",
    "            horario.addCons(quicksum([X[p,l,c,s,t,d] for p in range(P)]) <= 1)"
   ]
  },
  {
   "cell_type": "markdown",
   "metadata": {},
   "source": [
    "2. Para cada sala e para cada dia, o número de reuniões é menor ou igual que N.\n",
    "\n",
    "$$\\forall_{s<S} \\cdot \\forall_{d<D} \\cdot \\quad \\sum_{p<P} x_{p,l,c,s,t,d} \\leq N$$"
   ]
  },
  {
   "cell_type": "code",
   "execution_count": 6,
   "metadata": {},
   "outputs": [],
   "source": [
    "for s in range(S):\n",
    "    for d in range(D):\n",
    "        horario.addCons(quicksum([X[p,l,c,s,t,d] for p in range(P)]) <= N)"
   ]
  },
  {
   "cell_type": "markdown",
   "metadata": {},
   "source": [
    "3. Cada colaborador tem, no máximo, um projeto num determinado slot.\n",
    "\n",
    "$$\\forall_{c<C} \\cdot \\forall_{t<T} \\cdot \\forall_{d<D} \\cdot \\quad \\sum_{p<P} x_{p,l,c,s,t,d} <= 1$$"
   ]
  },
  {
   "cell_type": "code",
   "execution_count": 7,
   "metadata": {},
   "outputs": [],
   "source": [
    "for c in range(C):\n",
    "    for t in range(T):\n",
    "        for d in range(D):\n",
    "            horario.addCons(quicksum([X[p,l,c,s,t,d] for p in range(P)]) <= 1)\n"
   ]
  },
  {
   "cell_type": "markdown",
   "metadata": {},
   "source": [
    "4. Cada projeto realiza, no máximo, R reuniões semanais.\n",
    "$$\\quad \\sum_{p<P} x_{p,l,c,s,t,d} <= R$$"
   ]
  },
  {
   "cell_type": "code",
   "execution_count": 8,
   "metadata": {},
   "outputs": [
    {
     "data": {
      "text/plain": [
       "c320581"
      ]
     },
     "execution_count": 8,
     "metadata": {},
     "output_type": "execute_result"
    }
   ],
   "source": [
    "horario.addCons(quicksum([X[p,l,c,s,t,d] for p in range(P)]) <= R)"
   ]
  },
  {
   "cell_type": "markdown",
   "metadata": {},
   "source": [
    "5. Cada projeto tem, no máximo, uma sala num determinado slot.\n",
    "\n",
    "$$\\forall_{p<P} \\cdot \\forall_{t<T} \\cdot \\forall_{d<D} \\quad \\sum_{s<S} x_{p,l,c,s,t,d} <= 1$$"
   ]
  },
  {
   "cell_type": "code",
   "execution_count": 9,
   "metadata": {},
   "outputs": [],
   "source": [
    "for p in range(P):\n",
    "    for d in range(D): \n",
    "        for t in range(T):\n",
    "            horario.addCons(quicksum([X[p,l,c,s,t,d] for s in range(S)])<=1)"
   ]
  },
  {
   "cell_type": "markdown",
   "metadata": {},
   "source": [
    "6. Cada líder tem, no máximo, um projeto\n",
    "\n",
    "$$\\forall_{l<L} \\quad \\sum_{p<P} x_{p,l,c,s,t,d} <= 1$$ "
   ]
  },
  {
   "cell_type": "code",
   "execution_count": 10,
   "metadata": {},
   "outputs": [],
   "source": [
    "for l in range(L):\n",
    "    horario.addCons(quicksum([X[p,l,c,s,t,d] for p in range(P)])<=1)"
   ]
  },
  {
   "cell_type": "markdown",
   "metadata": {},
   "source": [
    "7. O líder do projeto participa em todas as reuniões do seu projeto\n",
    "\n",
    "$$\\forall_{p<P} \\cdot \\quad \\sum_{l<L} x_{p,l,c,s,t,d} = 1$$"
   ]
  },
  {
   "cell_type": "code",
   "execution_count": 11,
   "metadata": {},
   "outputs": [],
   "source": [
    "\n",
    "for p in range(P):\n",
    "    horario.addCons(quicksum([X[p,l,c,s,t,d] for l in range(L)]) == 1)\n"
   ]
  },
  {
   "cell_type": "markdown",
   "metadata": {},
   "source": [
    "8. Cada reunião tem pelo menos 50% do número de colaboradores. \n",
    "\n",
    "$$\\forall_{p<P} \\cdot \\quad \\sum_{c<C} x_{p,l,c,s,t,d} \\geq C/2$$"
   ]
  },
  {
   "cell_type": "code",
   "execution_count": 12,
   "metadata": {},
   "outputs": [
    {
     "data": {
      "text/plain": [
       "'\\nfor p in range(P):\\n    horario.addCons(quicksum([X[p,l,c,s,t,d] for c in range(C)]) >= 0.5*C)\\n'"
      ]
     },
     "execution_count": 12,
     "metadata": {},
     "output_type": "execute_result"
    }
   ],
   "source": [
    "'''\n",
    "for p in range(P):\n",
    "    horario.addCons(quicksum([X[p,l,c,s,t,d] for c in range(C)]) >= 0.5*C)\n",
    "'''"
   ]
  },
  {
   "cell_type": "markdown",
   "metadata": {},
   "source": [
    "9. Para cada sala, o tempo disponível é entre 0 e T.\n",
    "$$\\forall_{s<S}, 0 \\leq \\quad \\sum_{d<D, t<T} \\leq T$$"
   ]
  },
  {
   "cell_type": "code",
   "execution_count": 13,
   "metadata": {},
   "outputs": [],
   "source": [
    "\n",
    "for s in range(S):\n",
    "    horario.addCons(quicksum([X[p,l,c,s,t,d]   for t in range(T) for d in range(D)])>= 0)\n",
    "    horario.addCons(quicksum([X[p,l,c,s,t,d]   for t in range(T) for d in range(D)])<= T)\n"
   ]
  },
  {
   "cell_type": "markdown",
   "metadata": {},
   "source": [
    "10. Cada líder tem um dia da semana em que não está disponível.\n",
    "Para implementar esta condição, acrescentamos uma família de variáveis binárias $y_{l,d}$ que indicam se o líder $l$ está disponível no dia $d$, restringindo o número máximo de dias, dos quais o líder está disponível.\n",
    "\n",
    "$$\\forall_{l<L} \\cdot \\quad \\sum_{d<D} y_{l,d} < D$$"
   ]
  },
  {
   "cell_type": "code",
   "execution_count": 14,
   "metadata": {},
   "outputs": [],
   "source": [
    "\n",
    "y = {}\n",
    "for l in range(L):\n",
    "    for d in range(D):\n",
    "        y[l,d] = horario.addVar(str(l)+'_'+str(d), vtype=\"I\")\n",
    "        horario.addCons(0 <= y[l,d])\n",
    "        horario.addCons(y[l,d] <= 1)\n",
    "\n",
    "for l in range(L):\n",
    "    horario.addCons(quicksum([y[l,d] for d in range(D)]) <= D-1)\n"
   ]
  },
  {
   "cell_type": "markdown",
   "metadata": {},
   "source": [
    "11. Cada colaborador tem um dia da semana em que não está disponível.\n",
    "Para implementar esta condição, acrescentamos uma família de variáveis binárias $z_{c,d}$ que indicam se o colaborador $c$ está disponível no dia $d$, restringindo o número máximo de dias, dos quais o colaborador está disponível.\n",
    "\n",
    "$$\\forall_{c<C} \\cdot \\quad \\sum_{d<D} z_{c,d} < D$$"
   ]
  },
  {
   "cell_type": "code",
   "execution_count": 15,
   "metadata": {},
   "outputs": [],
   "source": [
    "\n",
    "z = {}\n",
    "for c in range(C):\n",
    "    for d in range(D):\n",
    "        z[c,d] = horario.addVar(str(c)+'_'+str(d), vtype=\"I\")\n",
    "        horario.addCons(0 <= z[c,d])\n",
    "        horario.addCons(z[c,d] <= 1)\n",
    "for c in range(C):\n",
    "    horario.addCons(quicksum([z[c,d] for d in range(D)]) <= D-1)\n"
   ]
  },
  {
   "cell_type": "markdown",
   "metadata": {},
   "source": [
    "12. Uma reunião só acontece se a disponibilidade do líder e dos colaboradores coincidirem.\n",
    "$$\\forall_{p<P} \\cdot \\forall_{d<D} \\cdot \\quad \\sum_{s<S,\\,t<T} x_{p,l,c,s,t,d} \\leq R * y_{l,d} * z_{c,d}$$"
   ]
  },
  {
   "cell_type": "code",
   "execution_count": 16,
   "metadata": {},
   "outputs": [],
   "source": [
    "\n",
    "for p in range(P):\n",
    "    for d in range(D):\n",
    "        horario.addCons(quicksum([X[p,l,c,s,t,d] for s in range(S) for t in range(T)]) <= R*y[l,d]*z[c,d])\n"
   ]
  },
  {
   "cell_type": "code",
   "execution_count": 17,
   "metadata": {
    "scrolled": false
   },
   "outputs": [
    {
     "name": "stdout",
     "output_type": "stream",
     "text": [
      "10\n",
      "(0, 7, 9, 3, 7, 4)\n",
      "(1, 0, 9, 3, 7, 4)\n",
      "(2, 6, 9, 3, 7, 4)\n",
      "(3, 1, 9, 3, 7, 4)\n",
      "(4, 2, 9, 3, 7, 4)\n",
      "(5, 3, 9, 3, 7, 4)\n",
      "(6, 4, 9, 3, 7, 4)\n",
      "(7, 5, 9, 3, 7, 4)\n",
      "(8, 9, 9, 3, 7, 4)\n",
      "(9, 8, 9, 3, 7, 4)\n"
     ]
    }
   ],
   "source": [
    "\n",
    "horario.optimize()\n",
    "\n",
    "status = horario.getStatus()\n",
    "sol = {}\n",
    "if status == 'optimal':\n",
    "    for p in range(P):\n",
    "        for l in range(L):\n",
    "            for c in range(C):\n",
    "                for s in range(S):\n",
    "                    for t in range(T):\n",
    "                        for d in range(D):\n",
    "                            if horario.getVal(X[p,l,c,s,t,d]) == 1:\n",
    "                                sol[p,l,c,s,t,d] = X[p,l,c,s,t,d]\n",
    "    print(len(sol))\n",
    "    for p in sol:\n",
    "        print(p)\n",
    "        \n",
    "else:\n",
    "    print(\"Não há solução!\")"
   ]
  },
  {
   "cell_type": "markdown",
   "metadata": {},
   "source": [
    "## \"Pigeon Hole Principle\" (PHP)"
   ]
  },
  {
   "cell_type": "markdown",
   "metadata": {},
   "source": [
    "### Lógica Proposicional"
   ]
  },
  {
   "cell_type": "markdown",
   "metadata": {},
   "source": [
    "Nós queremos recriar o problema clássico da complexidade \"Pigeon Hole Principle\" na linguagem SMT. Uma linguagem SMT (Satisfiability Model Theory) é caraterizada da seguinte forma: \n",
    "- f é satisfazível (SAT) se e só se existir uma valoração que torne f verdadeira; \n",
    "- f é válida (VAL) se e só se toda a valoração torna f verdade.\n",
    "\n",
    "Para formalizar o princípio, vamos introduzir variáveis booleanas $x_{p,pol}$ interpretada como:\n",
    "\n",
    "* $x_{p,pol} = 1$ se e só se o p-ésimo pombo ocupa o pol-ésimo poleiro.\n",
    "\n",
    "Seja $PHP_{N-1}^{N}$ definida pelas seguintes cláusulas:\n",
    "\n",
    "   1. O pombo p tem pelo menos um poleiro;\n",
    "   \n",
    "   $$\\forall_{p}\\bigwedge_{pol=0}^{N-1} x_{p,pol}$$\n",
    "\n",
    "   2. Um pombo p não pode ter mais do que um poleiro.\n",
    "   \n",
    "   $$\\forall_{p}\\bigwedge_{pol=0}^{N-1} (x_{p,pol} \\rightarrow (\\bigwedge_{pol2=pol+1}^{N-1} \\neg x_{p,pol2})$$\n",
    "\n",
    "   3. Um poleiro não pode ter mais do que um pombo\n",
    "\n",
    "   Para um dado poleiro $pol$, e pombos $p$ e $k$, se $pol$ estiver a ser ocupado por $p$ e $k$, então $p$ e $k$ são o mesmo pombo. \n",
    "   \n",
    "   $$x_{p,pol} \\wedge x_{k, pol} \\rightarrow p = k$$"
   ]
  },
  {
   "cell_type": "code",
   "execution_count": 18,
   "metadata": {},
   "outputs": [],
   "source": [
    "from z3 import *\n",
    "from timeit import timeit\n",
    "import matplotlib.pyplot as plt"
   ]
  },
  {
   "cell_type": "code",
   "execution_count": 19,
   "metadata": {},
   "outputs": [],
   "source": [
    "# N = número de pombos\n",
    "def verifica(n):\n",
    "    # dicionario de alocação pombo poleiro\n",
    "    aloc = {}\n",
    "    \n",
    "    # todo o pombo tem pelo menos um poleiro\n",
    "    for pombo in range(n):\n",
    "        aloc[pombo] = {}\n",
    "        for poleiro in range(n-1):\n",
    "            aloc[pombo][poleiro] = Bool(str(pombo)+\"_\"+str(poleiro))\n",
    "    \n",
    "    # inicializar o solver\n",
    "    s = Solver()\n",
    "    \n",
    "    # no minimo um pombo num poleiro\n",
    "    for pombo in aloc:\n",
    "        s.add(Or(list(aloc[pombo].values())))\n",
    "    \n",
    "    \n",
    "    \n",
    "    # no máximo um pombo por poleiro\n",
    "    # vai distribuir um pombo por um e um só poleiro\n",
    "    for pombo in aloc:\n",
    "        for poleiro in range(n-1):\n",
    "            for poleiro2 in range(n-1):\n",
    "                if poleiro != poleiro2:\n",
    "                    s.add(Implies(aloc[pombo][poleiro], Not(aloc[pombo][poleiro2])))\n",
    "\n",
    "        # os restantes pombos (x) não podem estar no mesmo poleiro do pombo\n",
    "        for pombo in aloc:\n",
    "            for poleiro in range(0, n-1):\n",
    "                for x in range(pombo+1,n):  \n",
    "                    #print(\"outro pombo\" + str(x))\n",
    "                    s.add(Implies(aloc[pombo][poleiro], Not(aloc[x][poleiro])))\n",
    "    #print(s)              \n",
    "    if s.check() == sat:\n",
    "        m = s.model()\n",
    "        #print(m)\n",
    "        return True\n",
    "    else:\n",
    "        return False\n"
   ]
  },
  {
   "cell_type": "markdown",
   "metadata": {},
   "source": [
    "### Espaço de resultados:"
   ]
  },
  {
   "cell_type": "code",
   "execution_count": 20,
   "metadata": {},
   "outputs": [
    {
     "name": "stdout",
     "output_type": "stream",
     "text": [
      "[(2, 6.259999736357713e-07), (3, 3.220000053261174e-07), (4, 3.020000463038741e-07), (5, 2.5699995376271545e-07), (6, 2.780000158963958e-07), (7, 2.4700000267330324e-07), (8, 3.229999947507167e-07), (9, 2.079999603665783e-07)]\n"
     ]
    },
    {
     "data": {
      "image/png": "[encoded data removed]",
      "text/plain": [
       "<Figure size 432x288 with 1 Axes>"
      ]
     },
     "metadata": {
      "needs_background": "light"
     },
     "output_type": "display_data"
    }
   ],
   "source": [
    "\n",
    "l = []\n",
    "\n",
    "for n in range(2,10):\n",
    "    x = timeit(setup=\"from __main__ import verifica\", \\\n",
    "       stmt=\"verifica\",number=1)\n",
    "    l.append((n,x))\n",
    "print(l)\n",
    "zip(*l)\n",
    "plt.plot(*zip(*l))\n",
    "plt.show()\n",
    "\n"
   ]
  },
  {
   "cell_type": "markdown",
   "metadata": {},
   "source": [
    "Neste problema é impossível alocar N pombos em N-1 poleiros sendo que, cada pombo ocupa totalmente um poleiro."
   ]
  },
  {
   "cell_type": "markdown",
   "metadata": {},
   "source": [
    "### Lógica Inteira Linear"
   ]
  },
  {
   "cell_type": "markdown",
   "metadata": {},
   "source": [
    "Outro método para solucionar o problema de decisão consiste na aplicação da Lógica Inteira Linear. Com o objetivo de alcançar a conclusão desejada, criámos um dicionário aloc onde associámos uma variável inteira para cada pombo a um único poleiro. Inicialmente restringimos os valores dos poleiros para obter poleiros válidos (de 0 até n-1, onde n é o número total de pombos).\n",
    "$$\n",
    "0 \\le pombo_{pol} < n-1\n",
    "$$\n",
    "\n",
    "Em seguida, elaboramos também uma última restrição de forma a não ser possível haver mais do que um pombo no mesmo poleiro.\n",
    "\n",
    "$$\n",
    "pombo_{pol1} \\neq pombo_{pol2}\n",
    "$$"
   ]
  },
  {
   "cell_type": "code",
   "execution_count": 21,
   "metadata": {
    "scrolled": true
   },
   "outputs": [],
   "source": [
    "def verifica_inteiro(n):\n",
    "    # z3 solver\n",
    "    \n",
    "    s = Solver()\n",
    "    \n",
    "    aloc = {}\n",
    "    for pombo in range(n):                # cria as variáveis z3\n",
    "        aloc[pombo] = Int(str(pombo))\n",
    "        s.add(0 <= aloc[pombo], aloc[pombo] < n-1) # poleiro válido\n",
    "        \n",
    "    for pombo in aloc:\n",
    "        for pombo2 in aloc:\n",
    "            if pombo != pombo2:\n",
    "                s.add(aloc[pombo] != aloc[pombo2])\n",
    "    \n",
    "    if s.check() == sat:\n",
    "        m = s.model()\n",
    "        print(m)\n",
    "        return True\n",
    "    else:\n",
    "        return False\n",
    "    "
   ]
  },
  {
   "cell_type": "markdown",
   "metadata": {},
   "source": [
    "### Espaço de resultados:"
   ]
  },
  {
   "cell_type": "code",
   "execution_count": 22,
   "metadata": {
    "scrolled": false
   },
   "outputs": [
    {
     "name": "stdout",
     "output_type": "stream",
     "text": [
      "False\n",
      "False\n",
      "False\n",
      "False\n",
      "False\n",
      "False\n",
      "False\n",
      "False\n"
     ]
    }
   ],
   "source": [
    "\n",
    "for n in range(2,10):\n",
    "    print(verifica_inteiro(n))\n",
    "    "
   ]
  },
  {
   "cell_type": "code",
   "execution_count": 23,
   "metadata": {},
   "outputs": [
    {
     "data": {
      "image/png": "[encoded data removed]",
      "text/plain": [
       "<Figure size 432x288 with 1 Axes>"
      ]
     },
     "metadata": {
      "needs_background": "light"
     },
     "output_type": "display_data"
    }
   ],
   "source": [
    "l = []\n",
    "\n",
    "for n in range(2,10):\n",
    "    x = timeit(setup=\"from __main__ import verifica_inteiro\", \\\n",
    "       stmt=\"verifica_inteiro\",number=1)\n",
    "    l.append((n,x))\n",
    "#print(l)\n",
    "zip(*l)\n",
    "plt.plot(*zip(*l))\n",
    "plt.show()\n"
   ]
  },
  {
   "cell_type": "markdown",
   "metadata": {},
   "source": [
    "## Análise de Complexidade"
   ]
  },
  {
   "cell_type": "markdown",
   "metadata": {},
   "source": [
    "Após a resolução do exercíco 2, pudemos concluis que existem diferenças entre a lógica proposicional e a lógica inteira linear.\n",
    "No que toca à execução, na lógica proposional realizamos o trabalho de acordo com algumas restrições, sendo essas:\n",
    "\n",
    "    1) todos os pombos têm pelo menos um poleiro.\n",
    "    2) Um pombo tem um e um só poleiro.\n",
    "    3) Um poleiro não pode ter mais do que um pombo.\n",
    "\n",
    "Após essas restrições obtemos a resolução do problema recorrendo ao Z3.\n",
    "Na lógica inteira linear optamos por distribuir os pombos pelos poleiros, ou seja, o pombo1 no poleiro1 e assim sucessivamente.\n",
    "\n",
    "Com isto concluimos que a programação linear inteira pode ser executada muito mais rapidamente e também nos dá resolução exata para muitos problemas.\n"
   ]
  },
  {
   "cell_type": "markdown",
   "metadata": {},
   "source": [
    "# Bibliografia"
   ]
  },
  {
   "cell_type": "markdown",
   "metadata": {},
   "source": [
    "1. https://members.loria.fr/SMerz/papers/cade2011symmetry.pdf (Pigeon Hole Principle)\n",
    "2. https://homepages.cwi.nl/~rdewolf/resolutionlowerbound.pdf (Pigeon Hole Principle)"
   ]
  }
 ],
 "metadata": {
  "kernelspec": {
   "display_name": "Python 3",
   "language": "python",
   "name": "python3"
  },
  "language_info": {
   "codemirror_mode": {
    "name": "ipython",
    "version": 3
   },
   "file_extension": ".py",
   "mimetype": "text/x-python",
   "name": "python",
   "nbconvert_exporter": "python",
   "pygments_lexer": "ipython3",
   "version": "3.8.5"
  }
 },
 "nbformat": 4,
 "nbformat_minor": 4
}
